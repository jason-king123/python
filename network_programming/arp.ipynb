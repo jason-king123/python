{
 "cells": [
  {
   "cell_type": "markdown",
   "id": "6a23667b",
   "metadata": {},
   "source": [
    "### ARP (Address Resolution Protocol)      \n",
    "[Networking: Network Protocols 3 (IP vs. MAC)](https://learn.clf.uk/lesson/computing/year-9-computing-networking-network-protocols-3-ip-vs-mac/)\n",
    "\n",
    "    ARP is a protocol used in the IP network for mapping an IP address to a physical (MAC) address on the local network. The key purpose of this protocol is to find the MAC address of a device based on its IP address.  \n",
    "\n",
    "**scenario**  \n",
    "\n",
    "    In a typical scenario, when a device (Device A) wants to communicate with another device (Device B) on the same network, Device A needs to know the MAC address of Device B. However, Device A only knows the IP address of Device B. This is where ARP comes into play. Device A will broadcast an ARP request to all devices on the network. This request contains the IP address of Device B."
   ]
  },
  {
   "cell_type": "markdown",
   "id": "c407fab3",
   "metadata": {},
   "source": [
    "```\n",
    "pip install scapy\n",
    "\n",
    "```\n",
    "[Download the Npcap library]( https://nmap.org/npcap/)"
   ]
  },
  {
   "cell_type": "code",
   "execution_count": 2,
   "id": "0446177f",
   "metadata": {},
   "outputs": [
    {
     "ename": "RuntimeError",
     "evalue": "Sniffing and sending packets is not available at layer 2: winpcap is not installed. You may use conf.L3socket orconf.L3socket6 to access layer 3",
     "output_type": "error",
     "traceback": [
      "\u001b[1;31m---------------------------------------------------------------------------\u001b[0m",
      "\u001b[1;31mRuntimeError\u001b[0m                              Traceback (most recent call last)",
      "\u001b[1;32m~\\AppData\\Local\\Temp\\ipykernel_5028\\932583182.py\u001b[0m in \u001b[0;36m<module>\u001b[1;34m\u001b[0m\n\u001b[0;32m     15\u001b[0m \u001b[1;33m\u001b[0m\u001b[0m\n\u001b[0;32m     16\u001b[0m \u001b[1;31m# Replace '192.168.1.1' with the IP address you're interested in\u001b[0m\u001b[1;33m\u001b[0m\u001b[1;33m\u001b[0m\u001b[0m\n\u001b[1;32m---> 17\u001b[1;33m \u001b[0mprint\u001b[0m\u001b[1;33m(\u001b[0m\u001b[0mget_mac\u001b[0m\u001b[1;33m(\u001b[0m\u001b[1;34m'10.250.208.192'\u001b[0m\u001b[1;33m)\u001b[0m\u001b[1;33m)\u001b[0m\u001b[1;33m\u001b[0m\u001b[1;33m\u001b[0m\u001b[0m\n\u001b[0m",
      "\u001b[1;32m~\\AppData\\Local\\Temp\\ipykernel_5028\\932583182.py\u001b[0m in \u001b[0;36mget_mac\u001b[1;34m(ip)\u001b[0m\n\u001b[0;32m      6\u001b[0m \u001b[1;33m\u001b[0m\u001b[0m\n\u001b[0;32m      7\u001b[0m     \u001b[1;31m# Use srp (send and receive packet) function to send the ARP request and receive the response\u001b[0m\u001b[1;33m\u001b[0m\u001b[1;33m\u001b[0m\u001b[0m\n\u001b[1;32m----> 8\u001b[1;33m     \u001b[0mresult\u001b[0m \u001b[1;33m=\u001b[0m \u001b[0msrp\u001b[0m\u001b[1;33m(\u001b[0m\u001b[0marp_request\u001b[0m\u001b[1;33m,\u001b[0m \u001b[0mtimeout\u001b[0m\u001b[1;33m=\u001b[0m\u001b[1;36m3\u001b[0m\u001b[1;33m,\u001b[0m \u001b[0mverbose\u001b[0m\u001b[1;33m=\u001b[0m\u001b[1;36m0\u001b[0m\u001b[1;33m)\u001b[0m\u001b[1;33m[\u001b[0m\u001b[1;36m0\u001b[0m\u001b[1;33m]\u001b[0m\u001b[1;33m\u001b[0m\u001b[1;33m\u001b[0m\u001b[0m\n\u001b[0m\u001b[0;32m      9\u001b[0m \u001b[1;33m\u001b[0m\u001b[0m\n\u001b[0;32m     10\u001b[0m     \u001b[1;31m# The result is a list of pairs (request, answer); we're interested in the answer\u001b[0m\u001b[1;33m\u001b[0m\u001b[1;33m\u001b[0m\u001b[0m\n",
      "\u001b[1;32mD:\\develop\\Anaconda\\lib\\site-packages\\scapy\\sendrecv.py\u001b[0m in \u001b[0;36msrp\u001b[1;34m(x, promisc, iface, iface_hint, filter, nofilter, type, *args, **kargs)\u001b[0m\n\u001b[0;32m    685\u001b[0m         \u001b[0miface\u001b[0m \u001b[1;33m=\u001b[0m \u001b[0mconf\u001b[0m\u001b[1;33m.\u001b[0m\u001b[0mroute\u001b[0m\u001b[1;33m.\u001b[0m\u001b[0mroute\u001b[0m\u001b[1;33m(\u001b[0m\u001b[0miface_hint\u001b[0m\u001b[1;33m)\u001b[0m\u001b[1;33m[\u001b[0m\u001b[1;36m0\u001b[0m\u001b[1;33m]\u001b[0m\u001b[1;33m\u001b[0m\u001b[1;33m\u001b[0m\u001b[0m\n\u001b[0;32m    686\u001b[0m     \u001b[0miface\u001b[0m \u001b[1;33m=\u001b[0m \u001b[0mresolve_iface\u001b[0m\u001b[1;33m(\u001b[0m\u001b[0miface\u001b[0m \u001b[1;32mor\u001b[0m \u001b[0mconf\u001b[0m\u001b[1;33m.\u001b[0m\u001b[0miface\u001b[0m\u001b[1;33m)\u001b[0m\u001b[1;33m\u001b[0m\u001b[1;33m\u001b[0m\u001b[0m\n\u001b[1;32m--> 687\u001b[1;33m     s = iface.l2socket()(promisc=promisc, iface=iface,\n\u001b[0m\u001b[0;32m    688\u001b[0m                          filter=filter, nofilter=nofilter, type=type)\n\u001b[0;32m    689\u001b[0m     \u001b[0mresult\u001b[0m \u001b[1;33m=\u001b[0m \u001b[0msndrcv\u001b[0m\u001b[1;33m(\u001b[0m\u001b[0ms\u001b[0m\u001b[1;33m,\u001b[0m \u001b[0mx\u001b[0m\u001b[1;33m,\u001b[0m \u001b[1;33m*\u001b[0m\u001b[0margs\u001b[0m\u001b[1;33m,\u001b[0m \u001b[1;33m**\u001b[0m\u001b[0mkargs\u001b[0m\u001b[1;33m)\u001b[0m\u001b[1;33m\u001b[0m\u001b[1;33m\u001b[0m\u001b[0m\n",
      "\u001b[1;32mD:\\develop\\Anaconda\\lib\\site-packages\\scapy\\arch\\windows\\__init__.py\u001b[0m in \u001b[0;36m__init__\u001b[1;34m(self, *args, **kargs)\u001b[0m\n\u001b[0;32m   1017\u001b[0m     \u001b[1;32mdef\u001b[0m \u001b[0m__init__\u001b[0m\u001b[1;33m(\u001b[0m\u001b[0mself\u001b[0m\u001b[1;33m,\u001b[0m \u001b[1;33m*\u001b[0m\u001b[0margs\u001b[0m\u001b[1;33m,\u001b[0m \u001b[1;33m**\u001b[0m\u001b[0mkargs\u001b[0m\u001b[1;33m)\u001b[0m\u001b[1;33m:\u001b[0m\u001b[1;33m\u001b[0m\u001b[1;33m\u001b[0m\u001b[0m\n\u001b[0;32m   1018\u001b[0m         \u001b[1;31m# type: (*Any, **Any) -> None\u001b[0m\u001b[1;33m\u001b[0m\u001b[1;33m\u001b[0m\u001b[0m\n\u001b[1;32m-> 1019\u001b[1;33m         raise RuntimeError(\n\u001b[0m\u001b[0;32m   1020\u001b[0m             \u001b[1;34m\"Sniffing and sending packets is not available at layer 2: \"\u001b[0m\u001b[1;33m\u001b[0m\u001b[1;33m\u001b[0m\u001b[0m\n\u001b[0;32m   1021\u001b[0m             \u001b[1;34m\"winpcap is not installed. You may use conf.L3socket or\"\u001b[0m\u001b[1;33m\u001b[0m\u001b[1;33m\u001b[0m\u001b[0m\n",
      "\u001b[1;31mRuntimeError\u001b[0m: Sniffing and sending packets is not available at layer 2: winpcap is not installed. You may use conf.L3socket orconf.L3socket6 to access layer 3"
     ]
    }
   ],
   "source": [
    "from scapy.all import Ether, ARP, srp\n",
    "\n",
    "def get_mac(ip):\n",
    "    # Create an Ether broadcast packet followed by an ARP request packet\n",
    "    arp_request = Ether(dst=\"ff:ff:ff:ff:ff:ff\")/ARP(pdst=ip)\n",
    "\n",
    "    # Use srp (send and receive packet) function to send the ARP request and receive the response\n",
    "    result = srp(arp_request, timeout=3, verbose=0)[0]\n",
    "\n",
    "    # The result is a list of pairs (request, answer); we're interested in the answer\n",
    "    for _, received in result:\n",
    "        return received[ARP].hwsrc\n",
    "\n",
    "    return \"No response\"\n",
    "\n",
    "# Replace '192.168.1.1' with the IP address you're interested in\n",
    "print(get_mac('10.250.208.192'))"
   ]
  },
  {
   "cell_type": "code",
   "execution_count": null,
   "id": "40e3dd62",
   "metadata": {},
   "outputs": [],
   "source": []
  }
 ],
 "metadata": {
  "kernelspec": {
   "display_name": "Python 3 (ipykernel)",
   "language": "python",
   "name": "python3"
  },
  "language_info": {
   "codemirror_mode": {
    "name": "ipython",
    "version": 3
   },
   "file_extension": ".py",
   "mimetype": "text/x-python",
   "name": "python",
   "nbconvert_exporter": "python",
   "pygments_lexer": "ipython3",
   "version": "3.9.13"
  }
 },
 "nbformat": 4,
 "nbformat_minor": 5
}
